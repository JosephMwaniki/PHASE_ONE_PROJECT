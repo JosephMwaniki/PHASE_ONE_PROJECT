{
 "cells": [
  {
   "attachments": {},
   "cell_type": "markdown",
   "metadata": {},
   "source": [
    "# Exploratory Analysis of Box Office Success: Informing Microsoft's New Movie Studio Strategy"
   ]
  },
  {
   "attachments": {},
   "cell_type": "markdown",
   "metadata": {},
   "source": [
    "## 1. Business Understanding"
   ]
  },
  {
   "attachments": {},
   "cell_type": "markdown",
   "metadata": {},
   "source": [
    "### a) Introduction"
   ]
  },
  {
   "attachments": {},
   "cell_type": "markdown",
   "metadata": {},
   "source": [
    "The focus of this Jupyter Notebook investigation analysis is Microsoft's new movie studio initiative. The purpose is to analyse successful box office films and provide actionable data for Microsoft to make informed judgments about the types of films they should generate. The analysis tries to find patterns and correlations in movie genres, themes, and audience preferences by combining comprehensive data, statistical analysis, data visualization, and exploratory approaches. The ultimate goal is to help Microsoft create films that connect with people and flourish in a competitive business. The analysis will provide recommendations to the head of Microsoft's film studio, providing them with useful information for strategic decision-making.\n",
    "\n"
   ]
  },
  {
   "attachments": {},
   "cell_type": "markdown",
   "metadata": {},
   "source": [
    "### b) Problem Statement"
   ]
  },
  {
   "attachments": {},
   "cell_type": "markdown",
   "metadata": {},
   "source": [
    "Microsoft is entering the movie industry by establishing a new movie studio, but lacks the necessary knowledge and understanding of the factors that contribute to box office success. The challenge is to explore the landscape of successful films in the current market and provide actionable insights to the head of Microsoft's new movie studio. By analyzing comprehensive data on box office records, movie genres, audience demographics, and other relevant variables, the goal is to identify the types of films that resonate with audiences and have the potential to thrive commercially. The insights derived from this analysis will enable Microsoft to make informed decisions about the types of films they should create, ensuring they can effectively compete and succeed in the highly dynamic and competitive movie industry.\n"
   ]
  },
  {
   "attachments": {},
   "cell_type": "markdown",
   "metadata": {},
   "source": [
    "### c) Main Objective"
   ]
  },
  {
   "attachments": {},
   "cell_type": "markdown",
   "metadata": {},
   "source": [
    "This project's primary goal is to undertake an exploratory analysis of box office success and give actionable findings to inform Microsoft's new movie studio strategy. The initiative intends to find patterns, trends, and correlations in successful films by evaluating complete data on box office records, movie genres, audience demographics, and other pertinent characteristics. The ultimate goal is to provide meaningful recommendations to the head of Microsoft's film studio, allowing them to make informed decisions about the types of films to produce. These insights will assist Microsoft in gaining a competitive advantage in the business and increasing the possibility of generating commercially successful films.\n"
   ]
  },
  {
   "attachments": {},
   "cell_type": "markdown",
   "metadata": {},
   "source": [
    "### d) Specific Objectives"
   ]
  },
  {
   "attachments": {},
   "cell_type": "markdown",
   "metadata": {},
   "source": [
    "1. Collect and analyze comprehensive data on box office records, movie genres, ratings, audience demographics, and other relevant variables.\n",
    "2. Identify the top-performing genres, themes, and storytelling approaches in the current box office landscape.\n",
    "3. Explore audience preferences and demographics to determine target market segments for Microsoft's new movie studio.\n",
    "4. Conduct comparative analysis of successful films produced by other studios to understand the factors contributing to their success.\n",
    "6. Develop data visualizations, including charts and graphs, to effectively communicate key findings and insights.\n",
    "7. Translate the analysis findings into actionable recommendations for Microsoft's new movie studio, suggesting specific types of films to create based on audience demand and market trends.\n"
   ]
  },
  {
   "attachments": {},
   "cell_type": "markdown",
   "metadata": {},
   "source": [
    "### e) Experimental Design"
   ]
  },
  {
   "attachments": {},
   "cell_type": "markdown",
   "metadata": {},
   "source": [
    "1. Data Collection\n",
    "2. Read and check the data\n",
    "3. Cleaning the data\n",
    "4. Data modeling and model perfomance evaluation\n",
    "5. Conclusion and Recommendation"
   ]
  },
  {
   "attachments": {},
   "cell_type": "markdown",
   "metadata": {},
   "source": [
    "### f) Data Understanding"
   ]
  },
  {
   "attachments": {},
   "cell_type": "markdown",
   "metadata": {},
   "source": [
    "The dataset will encompass various dimensions related to movies, box office performance, genres, ratings, audience demographics, and other relevant variables. The following aspects will be considered for data understanding:\n",
    "\n",
    "1. Movie Genres: The dataset will categorize movies into different genres, such as action, comedy, drama, sci-fi, etc. This classification will allow for analysis of the popularity and performance of various genres at the box office.\n",
    "2. Movie runtime: the dataset will cartegorize movies into there respective runtime. This data will provide insights on what is the most favourable runtime for the audience.\n",
    "3. Movie rating: this dataset will inform which is the highest rated movies to inform which is the most prefered movies\n",
    "4. Number of votes: this gives insight to the number of audience have watched and commented on the movies\n",
    "\n",
    "By comprehensively understanding the data, including its sources, completeness, accuracy, and potential limitations, the analysis can be conducted effectively. This understanding will enable appropriate data preprocessing, exploration, and analysis techniques to be applied, leading to meaningful insights and actionable recommendations for Microsoft's new movie studio.\n",
    "\n",
    "_Data base source: imdb database_\n"
   ]
  },
  {
   "attachments": {},
   "cell_type": "markdown",
   "metadata": {},
   "source": []
  },
  {
   "attachments": {},
   "cell_type": "markdown",
   "metadata": {},
   "source": [
    "## 2. Importing Libraries"
   ]
  },
  {
   "cell_type": "code",
   "execution_count": null,
   "metadata": {
    "vscode": {
     "languageId": "plaintext"
    }
   },
   "outputs": [],
   "source": [
    "#importing Liblaries\n",
    "\n",
    "import pandas as pd\n",
    "import numpy as np\n",
    "import matplotlib.pyplot as plt\n",
    "\n",
    "\n",
    "import sqlite3"
   ]
  }
 ],
 "metadata": {
  "kernelspec": {
   "display_name": "python (learn-env)",
   "language": "python",
   "name": "learn-env"
  },
  "language_info": {
   "codemirror_mode": {
    "name": "ipython",
    "version": 3
   },
   "file_extension": ".py",
   "mimetype": "text/x-python",
   "name": "python",
   "nbconvert_exporter": "python",
   "pygments_lexer": "ipython3",
   "version": "3.10.11"
  },
  "orig_nbformat": 4
 },
 "nbformat": 4,
 "nbformat_minor": 2
}
